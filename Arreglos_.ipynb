{
  "nbformat": 4,
  "nbformat_minor": 0,
  "metadata": {
    "colab": {
      "provenance": [],
      "authorship_tag": "ABX9TyN8ATNUHkV4+OGlJLKPSBoR",
      "include_colab_link": true
    },
    "kernelspec": {
      "name": "python3",
      "display_name": "Python 3"
    },
    "language_info": {
      "name": "python"
    }
  },
  "cells": [
    {
      "cell_type": "markdown",
      "metadata": {
        "id": "view-in-github",
        "colab_type": "text"
      },
      "source": [
        "<a href=\"https://colab.research.google.com/github/sofiaVagudelo/Sof-a-Vargas/blob/main/Arreglos_.ipynb\" target=\"_parent\"><img src=\"https://colab.research.google.com/assets/colab-badge.svg\" alt=\"Open In Colab\"/></a>"
      ]
    },
    {
      "cell_type": "markdown",
      "source": [
        "Formación y entendimiento de Arreglos ![image.png](data:image/png;base64,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)"
      ],
      "metadata": {
        "id": "DQ-Uic5Tg0Mn"
      }
    },
    {
      "cell_type": "code",
      "source": [
        "import numpy as np\n",
        "vector = np.array([1, 2, 3])\n",
        "print(vector)\n",
        "\n",
        "\n",
        "print(\"version  \", np.__version__)\n",
        "print(\"tipo de dato  \", type(vector))\n",
        "print(\"dimension  \", vector.ndim)\n",
        "print(\"forma  \", vector.shape)\n",
        "#crear vector de ceros\n",
        "vector_ceros = np.zero(5)\n",
        "print(\" vector de ceros \", vector_ceros)\n",
        "#Crear vector para llenar con unos\n",
        "vector_unos = np.ones(5)\n",
        "print(\"vector de unos  \", vector_unos)\n",
        "#Crear vector con un rango de numeros\n",
        "vector_rango = np.arange(10)\n",
        "print(\"vector con rango\", vector_rango)"
      ],
      "metadata": {
        "id": "cgcQgwNAg_ib"
      },
      "execution_count": null,
      "outputs": []
    },
    {
      "cell_type": "code",
      "source": [
        "import numpy as np\n",
        "vector = np.arange(20)\n",
        "vector1 = np.random.rand(1,20)\n",
        "print(\"rango\", vector)\n",
        "print(\"Se llena aleatoriamente numeros reales\", vector1)\n",
        "vector2 = np.random.randint(1,100,10) #Llena numero aleatorios del 1 al 10 pero de un rango del 1 al 100\n",
        "print(\"aleatoria enteros:\",vector2)\n",
        "print(vector2.shape)\n",
        "\n",
        "#suma de vectores\n",
        "resultadovector = vector + vector1\n",
        "print(\"suma de vectores\", resultadovector)\n"
      ],
      "metadata": {
        "colab": {
          "base_uri": "https://localhost:8080/"
        },
        "id": "eX2wuCQlxXEy",
        "outputId": "7bf07277-960f-49c2-a7a4-963cf6c9dc39"
      },
      "execution_count": 1,
      "outputs": [
        {
          "output_type": "stream",
          "name": "stdout",
          "text": [
            "rango [ 0  1  2  3  4  5  6  7  8  9 10 11 12 13 14 15 16 17 18 19]\n",
            "Se llena aleatoriamente numeros reales [[0.00862505 0.48643958 0.58786098 0.44569331 0.93382513 0.49319016\n",
            "  0.7916788  0.50881941 0.78119779 0.89060492 0.60825579 0.49457449\n",
            "  0.34735257 0.07193204 0.61183649 0.41753532 0.27213348 0.0466719\n",
            "  0.83562836 0.3517064 ]]\n",
            "aleatoria enteros: [80 27 74  4 70 22 17 44 15 19]\n",
            "(10,)\n",
            "suma de vectores [[8.62505103e-03 1.48643958e+00 2.58786098e+00 3.44569331e+00\n",
            "  4.93382513e+00 5.49319016e+00 6.79167880e+00 7.50881941e+00\n",
            "  8.78119779e+00 9.89060492e+00 1.06082558e+01 1.14945745e+01\n",
            "  1.23473526e+01 1.30719320e+01 1.46118365e+01 1.54175353e+01\n",
            "  1.62721335e+01 1.70466719e+01 1.88356284e+01 1.93517064e+01]]\n"
          ]
        }
      ]
    }
  ]
}